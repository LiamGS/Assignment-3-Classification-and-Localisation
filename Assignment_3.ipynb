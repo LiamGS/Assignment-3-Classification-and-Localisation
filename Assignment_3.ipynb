{
  "nbformat": 4,
  "nbformat_minor": 0,
  "metadata": {
    "accelerator": "GPU",
    "colab": {
      "name": "Assignment 3.ipynb",
      "provenance": [],
      "collapsed_sections": [
        "cVJLOFt7XGGo",
        "I8WMtorldMKH",
        "wPmnGRHndUGc",
        "5gD4O1UKgHMG"
      ],
      "include_colab_link": true
    },
    "kernelspec": {
      "display_name": "Python 3",
      "name": "python3"
    },
    "language_info": {
      "name": "python"
    }
  },
  "cells": [
    {
      "cell_type": "markdown",
      "metadata": {
        "id": "view-in-github",
        "colab_type": "text"
      },
      "source": [
        "<a href=\"https://colab.research.google.com/github/LiamGS/Assignment-3-Classification-and-Localisation/blob/main/Assignment_3.ipynb\" target=\"_parent\"><img src=\"https://colab.research.google.com/assets/colab-badge.svg\" alt=\"Open In Colab\"/></a>"
      ]
    },
    {
      "cell_type": "markdown",
      "metadata": {
        "id": "cVJLOFt7XGGo"
      },
      "source": [
        "# Modules Used"
      ]
    },
    {
      "cell_type": "code",
      "metadata": {
        "id": "6FikPVi7VM0o",
        "colab": {
          "base_uri": "https://localhost:8080/"
        },
        "outputId": "f885ed24-8a0c-4b3f-d1e0-2f3ffe5be872"
      },
      "source": [
        "!pip install wandb\n",
        "!pip install pyyaml h5py "
      ],
      "execution_count": null,
      "outputs": [
        {
          "output_type": "stream",
          "name": "stdout",
          "text": [
            "Requirement already satisfied: wandb in /usr/local/lib/python3.7/dist-packages (0.12.6)\n",
            "Requirement already satisfied: shortuuid>=0.5.0 in /usr/local/lib/python3.7/dist-packages (from wandb) (1.0.8)\n",
            "Requirement already satisfied: psutil>=5.0.0 in /usr/local/lib/python3.7/dist-packages (from wandb) (5.4.8)\n",
            "Requirement already satisfied: PyYAML in /usr/local/lib/python3.7/dist-packages (from wandb) (3.13)\n",
            "Requirement already satisfied: configparser>=3.8.1 in /usr/local/lib/python3.7/dist-packages (from wandb) (5.1.0)\n",
            "Requirement already satisfied: sentry-sdk>=1.0.0 in /usr/local/lib/python3.7/dist-packages (from wandb) (1.4.3)\n",
            "Requirement already satisfied: subprocess32>=3.5.3 in /usr/local/lib/python3.7/dist-packages (from wandb) (3.5.4)\n",
            "Requirement already satisfied: GitPython>=1.0.0 in /usr/local/lib/python3.7/dist-packages (from wandb) (3.1.24)\n",
            "Requirement already satisfied: docker-pycreds>=0.4.0 in /usr/local/lib/python3.7/dist-packages (from wandb) (0.4.0)\n",
            "Requirement already satisfied: six>=1.13.0 in /usr/local/lib/python3.7/dist-packages (from wandb) (1.15.0)\n",
            "Requirement already satisfied: requests<3,>=2.0.0 in /usr/local/lib/python3.7/dist-packages (from wandb) (2.23.0)\n",
            "Requirement already satisfied: protobuf>=3.12.0 in /usr/local/lib/python3.7/dist-packages (from wandb) (3.17.3)\n",
            "Requirement already satisfied: yaspin>=1.0.0 in /usr/local/lib/python3.7/dist-packages (from wandb) (2.1.0)\n",
            "Requirement already satisfied: pathtools in /usr/local/lib/python3.7/dist-packages (from wandb) (0.1.2)\n",
            "Requirement already satisfied: promise<3,>=2.0 in /usr/local/lib/python3.7/dist-packages (from wandb) (2.3)\n",
            "Requirement already satisfied: python-dateutil>=2.6.1 in /usr/local/lib/python3.7/dist-packages (from wandb) (2.8.2)\n",
            "Requirement already satisfied: Click!=8.0.0,>=7.0 in /usr/local/lib/python3.7/dist-packages (from wandb) (7.1.2)\n",
            "Requirement already satisfied: typing-extensions>=3.7.4.3 in /usr/local/lib/python3.7/dist-packages (from GitPython>=1.0.0->wandb) (3.10.0.2)\n",
            "Requirement already satisfied: gitdb<5,>=4.0.1 in /usr/local/lib/python3.7/dist-packages (from GitPython>=1.0.0->wandb) (4.0.9)\n",
            "Requirement already satisfied: smmap<6,>=3.0.1 in /usr/local/lib/python3.7/dist-packages (from gitdb<5,>=4.0.1->GitPython>=1.0.0->wandb) (5.0.0)\n",
            "Requirement already satisfied: certifi>=2017.4.17 in /usr/local/lib/python3.7/dist-packages (from requests<3,>=2.0.0->wandb) (2021.10.8)\n",
            "Requirement already satisfied: urllib3!=1.25.0,!=1.25.1,<1.26,>=1.21.1 in /usr/local/lib/python3.7/dist-packages (from requests<3,>=2.0.0->wandb) (1.24.3)\n",
            "Requirement already satisfied: chardet<4,>=3.0.2 in /usr/local/lib/python3.7/dist-packages (from requests<3,>=2.0.0->wandb) (3.0.4)\n",
            "Requirement already satisfied: idna<3,>=2.5 in /usr/local/lib/python3.7/dist-packages (from requests<3,>=2.0.0->wandb) (2.10)\n",
            "Requirement already satisfied: termcolor<2.0.0,>=1.1.0 in /usr/local/lib/python3.7/dist-packages (from yaspin>=1.0.0->wandb) (1.1.0)\n",
            "Requirement already satisfied: pyyaml in /usr/local/lib/python3.7/dist-packages (3.13)\n",
            "Requirement already satisfied: h5py in /usr/local/lib/python3.7/dist-packages (3.1.0)\n",
            "Requirement already satisfied: numpy>=1.14.5 in /usr/local/lib/python3.7/dist-packages (from h5py) (1.19.5)\n",
            "Requirement already satisfied: cached-property in /usr/local/lib/python3.7/dist-packages (from h5py) (1.5.2)\n"
          ]
        }
      ]
    },
    {
      "cell_type": "code",
      "metadata": {
        "id": "Mg4fg0QqU3dF"
      },
      "source": [
        "import tensorflow as tf\n",
        "from tensorflow.keras.layers import *\n",
        "from tensorflow.keras.models import *\n",
        "\n",
        "import os\n",
        "import numpy as np\n",
        "import pandas as pd\n",
        "import pickle\n",
        "\n",
        "import matplotlib.pyplot as plt\n",
        "%matplotlib inline\n",
        "\n",
        "import cv2\n",
        "\n",
        "import wandb\n",
        "from wandb.keras import WandbCallback\n",
        "\n",
        "from sklearn.model_selection import train_test_split"
      ],
      "execution_count": null,
      "outputs": []
    },
    {
      "cell_type": "code",
      "metadata": {
        "colab": {
          "base_uri": "https://localhost:8080/"
        },
        "id": "Oqk_arBZVQq3",
        "outputId": "f09469ed-7dac-4ab8-b180-7dfc2d27854a"
      },
      "source": [
        "!wandb login"
      ],
      "execution_count": null,
      "outputs": [
        {
          "output_type": "stream",
          "name": "stdout",
          "text": [
            "\u001b[34m\u001b[1mwandb\u001b[0m: Currently logged in as: \u001b[33mloam\u001b[0m (use `wandb login --relogin` to force relogin)\n"
          ]
        }
      ]
    },
    {
      "cell_type": "markdown",
      "metadata": {
        "id": "I8WMtorldMKH"
      },
      "source": [
        "# Import Data"
      ]
    },
    {
      "cell_type": "code",
      "metadata": {
        "colab": {
          "base_uri": "https://localhost:8080/"
        },
        "id": "tNGtW1KdWE6I",
        "outputId": "48919efa-6d98-4b7e-91f6-1b837ec567bf"
      },
      "source": [
        "from google.colab import drive\n",
        "drive.mount('/content/drive', force_remount=True)"
      ],
      "execution_count": null,
      "outputs": [
        {
          "output_type": "stream",
          "name": "stdout",
          "text": [
            "Mounted at /content/drive\n"
          ]
        }
      ]
    },
    {
      "cell_type": "code",
      "metadata": {
        "id": "3_3x8KN2WG7i"
      },
      "source": [
        "TRAIN_IMG_PATH = '/content/drive/MyDrive/TUKS/Postgraduate/Honours/COS 711/Assignments/Assignment 3/Training_Img/'\n",
        "TEST_IMG_PATH = '/content/drive/MyDrive/TUKS/Postgraduate/Honours/COS 711/Assignments/Assignment 3/Test_Img/'"
      ],
      "execution_count": null,
      "outputs": []
    },
    {
      "cell_type": "code",
      "metadata": {
        "colab": {
          "base_uri": "https://localhost:8080/",
          "height": 238
        },
        "id": "QvI0YkthVSST",
        "outputId": "d855fe63-08d5-4767-87e6-b62693190f4c"
      },
      "source": [
        "train_df1 = pd.read_csv('/content/drive/MyDrive/TUKS/Postgraduate/Honours/COS 711/Assignments/Assignment 3/Train.csv')\n",
        "submission_test_df = pd.read_csv('/content/drive/MyDrive/TUKS/Postgraduate/Honours/COS 711/Assignments/Assignment 3/Test.csv')\n",
        "print(len(train_df1))\n",
        "\n",
        "train_df1 = train_df1.drop_duplicates(subset=['Image_ID'], keep=False)\n",
        "print(len(train_df1))\n",
        "\n",
        "train_df1.head()"
      ],
      "execution_count": null,
      "outputs": [
        {
          "output_type": "stream",
          "name": "stdout",
          "text": [
            "3906\n",
            "2308\n"
          ]
        },
        {
          "output_type": "execute_result",
          "data": {
            "text/html": [
              "<div>\n",
              "<style scoped>\n",
              "    .dataframe tbody tr th:only-of-type {\n",
              "        vertical-align: middle;\n",
              "    }\n",
              "\n",
              "    .dataframe tbody tr th {\n",
              "        vertical-align: top;\n",
              "    }\n",
              "\n",
              "    .dataframe thead th {\n",
              "        text-align: right;\n",
              "    }\n",
              "</style>\n",
              "<table border=\"1\" class=\"dataframe\">\n",
              "  <thead>\n",
              "    <tr style=\"text-align: right;\">\n",
              "      <th></th>\n",
              "      <th>Image_ID</th>\n",
              "      <th>Class</th>\n",
              "      <th>xmin</th>\n",
              "      <th>ymin</th>\n",
              "      <th>width</th>\n",
              "      <th>height</th>\n",
              "    </tr>\n",
              "  </thead>\n",
              "  <tbody>\n",
              "    <tr>\n",
              "      <th>0</th>\n",
              "      <td>ID_007FAIEI</td>\n",
              "      <td>fruit_woodiness</td>\n",
              "      <td>87.0</td>\n",
              "      <td>87.5</td>\n",
              "      <td>228.0</td>\n",
              "      <td>311.0</td>\n",
              "    </tr>\n",
              "    <tr>\n",
              "      <th>1</th>\n",
              "      <td>ID_00G8K1V3</td>\n",
              "      <td>fruit_brownspot</td>\n",
              "      <td>97.5</td>\n",
              "      <td>17.5</td>\n",
              "      <td>245.0</td>\n",
              "      <td>354.5</td>\n",
              "    </tr>\n",
              "    <tr>\n",
              "      <th>2</th>\n",
              "      <td>ID_00WROUT9</td>\n",
              "      <td>fruit_brownspot</td>\n",
              "      <td>156.5</td>\n",
              "      <td>209.5</td>\n",
              "      <td>248.0</td>\n",
              "      <td>302.5</td>\n",
              "    </tr>\n",
              "    <tr>\n",
              "      <th>3</th>\n",
              "      <td>ID_00ZJEEK3</td>\n",
              "      <td>fruit_healthy</td>\n",
              "      <td>125.0</td>\n",
              "      <td>193.0</td>\n",
              "      <td>254.5</td>\n",
              "      <td>217.0</td>\n",
              "    </tr>\n",
              "    <tr>\n",
              "      <th>4</th>\n",
              "      <td>ID_018UIENR</td>\n",
              "      <td>fruit_brownspot</td>\n",
              "      <td>79.5</td>\n",
              "      <td>232.5</td>\n",
              "      <td>233.5</td>\n",
              "      <td>182.0</td>\n",
              "    </tr>\n",
              "  </tbody>\n",
              "</table>\n",
              "</div>"
            ],
            "text/plain": [
              "      Image_ID            Class   xmin   ymin  width  height\n",
              "0  ID_007FAIEI  fruit_woodiness   87.0   87.5  228.0   311.0\n",
              "1  ID_00G8K1V3  fruit_brownspot   97.5   17.5  245.0   354.5\n",
              "2  ID_00WROUT9  fruit_brownspot  156.5  209.5  248.0   302.5\n",
              "3  ID_00ZJEEK3    fruit_healthy  125.0  193.0  254.5   217.0\n",
              "4  ID_018UIENR  fruit_brownspot   79.5  232.5  233.5   182.0"
            ]
          },
          "metadata": {},
          "execution_count": 157
        }
      ]
    },
    {
      "cell_type": "code",
      "metadata": {
        "colab": {
          "base_uri": "https://localhost:8080/",
          "height": 282
        },
        "id": "yksBV8KnTsq1",
        "outputId": "ec88f3bf-c6b7-4923-a5fc-fea47d21342c"
      },
      "source": [
        "train_df1.Class.value_counts().plot(kind=\"barh\")"
      ],
      "execution_count": null,
      "outputs": [
        {
          "output_type": "execute_result",
          "data": {
            "text/plain": [
              "<matplotlib.axes._subplots.AxesSubplot at 0x7f8ecabb01d0>"
            ]
          },
          "metadata": {},
          "execution_count": 123
        },
        {
          "output_type": "display_data",
          "data": {
            "image/png": "[encoded data removed]",
            "text/plain": [
              "<Figure size 432x288 with 1 Axes>"
            ]
          },
          "metadata": {
            "needs_background": "light"
          }
        }
      ]
    },
    {
      "cell_type": "code",
      "metadata": {
        "id": "Qd0MnBWwhS4b"
      },
      "source": [
        "categories = {'fruit_healthy':0,'fruit_brownspot':1,'fruit_woodiness':2}\n",
        "\n",
        "train_df2 = train_df1.replace({'Class': categories})"
      ],
      "execution_count": null,
      "outputs": []
    },
    {
      "cell_type": "code",
      "metadata": {
        "colab": {
          "base_uri": "https://localhost:8080/",
          "height": 204
        },
        "id": "jnWWvAWhSI2E",
        "outputId": "1c77d284-162f-465e-b756-2cb63305ccef"
      },
      "source": [
        "train_df1.head()"
      ],
      "execution_count": null,
      "outputs": [
        {
          "output_type": "execute_result",
          "data": {
            "text/html": [
              "<div>\n",
              "<style scoped>\n",
              "    .dataframe tbody tr th:only-of-type {\n",
              "        vertical-align: middle;\n",
              "    }\n",
              "\n",
              "    .dataframe tbody tr th {\n",
              "        vertical-align: top;\n",
              "    }\n",
              "\n",
              "    .dataframe thead th {\n",
              "        text-align: right;\n",
              "    }\n",
              "</style>\n",
              "<table border=\"1\" class=\"dataframe\">\n",
              "  <thead>\n",
              "    <tr style=\"text-align: right;\">\n",
              "      <th></th>\n",
              "      <th>Image_ID</th>\n",
              "      <th>Class</th>\n",
              "      <th>xmin</th>\n",
              "      <th>ymin</th>\n",
              "      <th>width</th>\n",
              "      <th>height</th>\n",
              "    </tr>\n",
              "  </thead>\n",
              "  <tbody>\n",
              "    <tr>\n",
              "      <th>0</th>\n",
              "      <td>ID_007FAIEI</td>\n",
              "      <td>fruit_woodiness</td>\n",
              "      <td>87.0</td>\n",
              "      <td>87.5</td>\n",
              "      <td>228.0</td>\n",
              "      <td>311.0</td>\n",
              "    </tr>\n",
              "    <tr>\n",
              "      <th>1</th>\n",
              "      <td>ID_00G8K1V3</td>\n",
              "      <td>fruit_brownspot</td>\n",
              "      <td>97.5</td>\n",
              "      <td>17.5</td>\n",
              "      <td>245.0</td>\n",
              "      <td>354.5</td>\n",
              "    </tr>\n",
              "    <tr>\n",
              "      <th>2</th>\n",
              "      <td>ID_00WROUT9</td>\n",
              "      <td>fruit_brownspot</td>\n",
              "      <td>156.5</td>\n",
              "      <td>209.5</td>\n",
              "      <td>248.0</td>\n",
              "      <td>302.5</td>\n",
              "    </tr>\n",
              "    <tr>\n",
              "      <th>3</th>\n",
              "      <td>ID_00ZJEEK3</td>\n",
              "      <td>fruit_healthy</td>\n",
              "      <td>125.0</td>\n",
              "      <td>193.0</td>\n",
              "      <td>254.5</td>\n",
              "      <td>217.0</td>\n",
              "    </tr>\n",
              "    <tr>\n",
              "      <th>4</th>\n",
              "      <td>ID_018UIENR</td>\n",
              "      <td>fruit_brownspot</td>\n",
              "      <td>79.5</td>\n",
              "      <td>232.5</td>\n",
              "      <td>233.5</td>\n",
              "      <td>182.0</td>\n",
              "    </tr>\n",
              "  </tbody>\n",
              "</table>\n",
              "</div>"
            ],
            "text/plain": [
              "      Image_ID            Class   xmin   ymin  width  height\n",
              "0  ID_007FAIEI  fruit_woodiness   87.0   87.5  228.0   311.0\n",
              "1  ID_00G8K1V3  fruit_brownspot   97.5   17.5  245.0   354.5\n",
              "2  ID_00WROUT9  fruit_brownspot  156.5  209.5  248.0   302.5\n",
              "3  ID_00ZJEEK3    fruit_healthy  125.0  193.0  254.5   217.0\n",
              "4  ID_018UIENR  fruit_brownspot   79.5  232.5  233.5   182.0"
            ]
          },
          "metadata": {},
          "execution_count": 125
        }
      ]
    },
    {
      "cell_type": "code",
      "metadata": {
        "colab": {
          "base_uri": "https://localhost:8080/",
          "height": 204
        },
        "id": "9PFC5NU7R1ry",
        "outputId": "45146cd5-c669-4b99-df62-d0a6ee56a10f"
      },
      "source": [
        "train_df2.head()"
      ],
      "execution_count": null,
      "outputs": [
        {
          "output_type": "execute_result",
          "data": {
            "text/html": [
              "<div>\n",
              "<style scoped>\n",
              "    .dataframe tbody tr th:only-of-type {\n",
              "        vertical-align: middle;\n",
              "    }\n",
              "\n",
              "    .dataframe tbody tr th {\n",
              "        vertical-align: top;\n",
              "    }\n",
              "\n",
              "    .dataframe thead th {\n",
              "        text-align: right;\n",
              "    }\n",
              "</style>\n",
              "<table border=\"1\" class=\"dataframe\">\n",
              "  <thead>\n",
              "    <tr style=\"text-align: right;\">\n",
              "      <th></th>\n",
              "      <th>Image_ID</th>\n",
              "      <th>Class</th>\n",
              "      <th>xmin</th>\n",
              "      <th>ymin</th>\n",
              "      <th>width</th>\n",
              "      <th>height</th>\n",
              "    </tr>\n",
              "  </thead>\n",
              "  <tbody>\n",
              "    <tr>\n",
              "      <th>0</th>\n",
              "      <td>ID_007FAIEI</td>\n",
              "      <td>2</td>\n",
              "      <td>87.0</td>\n",
              "      <td>87.5</td>\n",
              "      <td>228.0</td>\n",
              "      <td>311.0</td>\n",
              "    </tr>\n",
              "    <tr>\n",
              "      <th>1</th>\n",
              "      <td>ID_00G8K1V3</td>\n",
              "      <td>1</td>\n",
              "      <td>97.5</td>\n",
              "      <td>17.5</td>\n",
              "      <td>245.0</td>\n",
              "      <td>354.5</td>\n",
              "    </tr>\n",
              "    <tr>\n",
              "      <th>2</th>\n",
              "      <td>ID_00WROUT9</td>\n",
              "      <td>1</td>\n",
              "      <td>156.5</td>\n",
              "      <td>209.5</td>\n",
              "      <td>248.0</td>\n",
              "      <td>302.5</td>\n",
              "    </tr>\n",
              "    <tr>\n",
              "      <th>3</th>\n",
              "      <td>ID_00ZJEEK3</td>\n",
              "      <td>0</td>\n",
              "      <td>125.0</td>\n",
              "      <td>193.0</td>\n",
              "      <td>254.5</td>\n",
              "      <td>217.0</td>\n",
              "    </tr>\n",
              "    <tr>\n",
              "      <th>4</th>\n",
              "      <td>ID_018UIENR</td>\n",
              "      <td>1</td>\n",
              "      <td>79.5</td>\n",
              "      <td>232.5</td>\n",
              "      <td>233.5</td>\n",
              "      <td>182.0</td>\n",
              "    </tr>\n",
              "  </tbody>\n",
              "</table>\n",
              "</div>"
            ],
            "text/plain": [
              "      Image_ID  Class   xmin   ymin  width  height\n",
              "0  ID_007FAIEI      2   87.0   87.5  228.0   311.0\n",
              "1  ID_00G8K1V3      1   97.5   17.5  245.0   354.5\n",
              "2  ID_00WROUT9      1  156.5  209.5  248.0   302.5\n",
              "3  ID_00ZJEEK3      0  125.0  193.0  254.5   217.0\n",
              "4  ID_018UIENR      1   79.5  232.5  233.5   182.0"
            ]
          },
          "metadata": {},
          "execution_count": 126
        }
      ]
    },
    {
      "cell_type": "code",
      "metadata": {
        "colab": {
          "base_uri": "https://localhost:8080/",
          "height": 282
        },
        "id": "bt0ouN32jtQP",
        "outputId": "b5eede69-c7f2-411c-ebe3-5129e3b8d7fa"
      },
      "source": [
        "train_df2.Class.value_counts().plot(kind=\"barh\")"
      ],
      "execution_count": null,
      "outputs": [
        {
          "output_type": "execute_result",
          "data": {
            "text/plain": [
              "<matplotlib.axes._subplots.AxesSubplot at 0x7f8eca8f0350>"
            ]
          },
          "metadata": {},
          "execution_count": 127
        },
        {
          "output_type": "display_data",
          "data": {
            "image/png": "[encoded data removed]",
            "text/plain": [
              "<Figure size 432x288 with 1 Axes>"
            ]
          },
          "metadata": {
            "needs_background": "light"
          }
        }
      ]
    },
    {
      "cell_type": "code",
      "metadata": {
        "id": "ydPOI5wzNt3L"
      },
      "source": [
        "train_df3 = train_df2.copy()"
      ],
      "execution_count": null,
      "outputs": []
    },
    {
      "cell_type": "code",
      "metadata": {
        "id": "OMKNAd3FuCwB"
      },
      "source": [
        "train_df3['xmin'] = (train_df3['xmin']/256)-1\n",
        "train_df3['ymin'] = (train_df3['ymin']/256)-1"
      ],
      "execution_count": null,
      "outputs": []
    },
    {
      "cell_type": "code",
      "metadata": {
        "colab": {
          "base_uri": "https://localhost:8080/"
        },
        "id": "BLZz5jjNRaE5",
        "outputId": "d0998d93-237d-4e98-8a24-336c74ac99ee"
      },
      "source": [
        "print((train_df3['xmin'][0]+1)*256)\n",
        "print(train_df2['xmin'][0])"
      ],
      "execution_count": null,
      "outputs": [
        {
          "output_type": "stream",
          "name": "stdout",
          "text": [
            "87.0\n",
            "87.0\n"
          ]
        }
      ]
    },
    {
      "cell_type": "markdown",
      "metadata": {
        "id": "wPmnGRHndUGc"
      },
      "source": [
        "# Split Training Data"
      ]
    },
    {
      "cell_type": "code",
      "metadata": {
        "id": "gCaqxOALT0gU"
      },
      "source": [
        "train_df, test_df = train_test_split(train_df3, test_size=0.2)"
      ],
      "execution_count": null,
      "outputs": []
    },
    {
      "cell_type": "code",
      "metadata": {
        "id": "YPKZIk2uWyRt"
      },
      "source": [
        "#For submission purposes \n",
        "\n",
        "train_df = train_df3.copy()"
      ],
      "execution_count": null,
      "outputs": []
    },
    {
      "cell_type": "code",
      "metadata": {
        "id": "yaHPqZEXUYpc",
        "colab": {
          "base_uri": "https://localhost:8080/"
        },
        "outputId": "28bf2a57-0f46-493d-f0bc-f639a6005243"
      },
      "source": [
        "Keys = ['width', 'height']\n",
        "\n",
        "data_desc = train_df.describe()\n",
        "\n",
        "for key in Keys:\n",
        "    train_df[key] = (train_df[key] - data_desc[key][1])/(data_desc[key][2])\n",
        "\n",
        "    \n",
        "for key in Keys:\n",
        "    test_df[key]  = (test_df[key]  - data_desc[key][1])/(data_desc[key][2])"
      ],
      "execution_count": null,
      "outputs": [
        {
          "output_type": "stream",
          "name": "stderr",
          "text": [
            "/usr/local/lib/python3.7/dist-packages/ipykernel_launcher.py:10: SettingWithCopyWarning: \n",
            "A value is trying to be set on a copy of a slice from a DataFrame.\n",
            "Try using .loc[row_indexer,col_indexer] = value instead\n",
            "\n",
            "See the caveats in the documentation: https://pandas.pydata.org/pandas-docs/stable/user_guide/indexing.html#returning-a-view-versus-a-copy\n",
            "  # Remove the CWD from sys.path while we load stuff.\n"
          ]
        }
      ]
    },
    {
      "cell_type": "code",
      "metadata": {
        "colab": {
          "base_uri": "https://localhost:8080/",
          "height": 282
        },
        "id": "NoAXOYkFdiHj",
        "outputId": "2c94f72a-304c-402d-a57d-4657521af9bb"
      },
      "source": [
        "train_df.Class.value_counts().plot(kind=\"barh\")"
      ],
      "execution_count": null,
      "outputs": [
        {
          "output_type": "execute_result",
          "data": {
            "text/plain": [
              "<matplotlib.axes._subplots.AxesSubplot at 0x7f8eca6c46d0>"
            ]
          },
          "metadata": {},
          "execution_count": 135
        },
        {
          "output_type": "display_data",
          "data": {
            "image/png": "[encoded data removed]",
            "text/plain": [
              "<Figure size 432x288 with 1 Axes>"
            ]
          },
          "metadata": {
            "needs_background": "light"
          }
        }
      ]
    },
    {
      "cell_type": "code",
      "metadata": {
        "colab": {
          "base_uri": "https://localhost:8080/",
          "height": 282
        },
        "id": "gBk2pEJ3dmAN",
        "outputId": "4485a6e9-ee52-40db-e7ba-19ab1b3c7435"
      },
      "source": [
        "test_df.Class.value_counts().plot(kind=\"barh\")"
      ],
      "execution_count": null,
      "outputs": [
        {
          "output_type": "execute_result",
          "data": {
            "text/plain": [
              "<matplotlib.axes._subplots.AxesSubplot at 0x7f8eca6a5310>"
            ]
          },
          "metadata": {},
          "execution_count": 136
        },
        {
          "output_type": "display_data",
          "data": {
            "image/png": "[encoded data removed]",
            "text/plain": [
              "<Figure size 432x288 with 1 Axes>"
            ]
          },
          "metadata": {
            "needs_background": "light"
          }
        }
      ]
    },
    {
      "cell_type": "code",
      "metadata": {
        "id": "8D7g8aR_wIcE"
      },
      "source": [
        "train_image_names = train_df.Image_ID.values\n",
        "train_labels      = train_df.Class.values\n",
        "train_bbox        = train_df[['xmin', 'ymin', 'width', 'height']].values\n",
        "\n",
        "test_image_names  = test_df.Image_ID.values\n",
        "test_labels       = test_df.Class.values\n",
        "test_bbox         = test_df[['xmin', 'ymin', 'width', 'height']].values"
      ],
      "execution_count": null,
      "outputs": []
    },
    {
      "cell_type": "code",
      "metadata": {
        "id": "gELquq_rXNKm"
      },
      "source": [
        "#train_image_names_n = train_image_names.copy()\n",
        "#train_labels_n      = train_labels.copy()\n",
        "#train_bbox_n        = train_bbox.copy()"
      ],
      "execution_count": null,
      "outputs": []
    },
    {
      "cell_type": "code",
      "metadata": {
        "id": "TwAHTMe9h4DW"
      },
      "source": [
        "train_labels    = tf.keras.utils.to_categorical(train_labels,3)\n",
        "#train_labels_n  = tf.keras.utils.to_categorical(train_labels_n,3)\n",
        "test_labels     = tf.keras.utils.to_categorical(test_labels,3)"
      ],
      "execution_count": null,
      "outputs": []
    },
    {
      "cell_type": "code",
      "metadata": {
        "colab": {
          "base_uri": "https://localhost:8080/"
        },
        "id": "rmd748NhQRUE",
        "outputId": "21d933a3-5972-4c4d-b554-112841ec79f2"
      },
      "source": [
        "print(train_bbox[0])\n",
        "train_labels[0]"
      ],
      "execution_count": null,
      "outputs": [
        {
          "output_type": "stream",
          "name": "stdout",
          "text": [
            "[-0.66015625 -0.65820312 -0.44544309  1.47678562]\n"
          ]
        },
        {
          "output_type": "execute_result",
          "data": {
            "text/plain": [
              "array([0., 0., 1.], dtype=float32)"
            ]
          },
          "metadata": {},
          "execution_count": 139
        }
      ]
    },
    {
      "cell_type": "markdown",
      "metadata": {
        "id": "q-fdGEmTdagc"
      },
      "source": [
        "# Preprocesing"
      ]
    },
    {
      "cell_type": "code",
      "metadata": {
        "id": "vuJ5lrTAV3xY"
      },
      "source": [
        "AUTO            = tf.data.experimental.AUTOTUNE\n",
        "BATCH_SIZE      = 10\n",
        "\n",
        "@tf.function\n",
        "def preprocess_train(image_name, label, bbox):\n",
        "    image       = tf.io.read_file(TRAIN_IMG_PATH+image_name+'.jpg')\n",
        "    image       = tf.image.decode_jpeg(image, channels=3)\n",
        "\n",
        "    return image, {'label': label, 'bbox': bbox}\n",
        "\n",
        "@tf.function\n",
        "def preprocess_test(image_name, label, bbox):\n",
        "    image = tf.io.read_file(TRAIN_IMG_PATH+image_name+'.jpg')\n",
        "    image = tf.image.decode_jpeg(image, channels=3)\n",
        "\n",
        "    return image, {'label': label, 'bbox': bbox}\n",
        "\n",
        "trainloader      = tf.data.Dataset.from_tensor_slices((train_image_names, train_labels, train_bbox))\n",
        "testloader       = tf.data.Dataset.from_tensor_slices((test_image_names, test_labels, test_bbox))\n",
        "\n",
        "trainloader = (\n",
        "    trainloader\n",
        "    .map(preprocess_train)\n",
        "    .shuffle(1024)\n",
        "    .batch(BATCH_SIZE)\n",
        "    .prefetch(AUTO)\n",
        ")\n",
        "\n",
        "\n",
        "testloader = (\n",
        "    testloader\n",
        "    .map(preprocess_test)\n",
        "    .batch(1)\n",
        "    .prefetch(AUTO)\n",
        ")"
      ],
      "execution_count": null,
      "outputs": []
    },
    {
      "cell_type": "markdown",
      "metadata": {
        "id": "znTApQ4ggMDN"
      },
      "source": [
        "# Define Model"
      ]
    },
    {
      "cell_type": "code",
      "metadata": {
        "id": "wj13G_BBgUd6"
      },
      "source": [
        "losses = {'label': 'categorical_crossentropy',\n",
        "          'bbox': 'huber'}\n",
        "\n",
        "loss_weights = {'label': 1.0,\n",
        "                'bbox': 10.0}"
      ],
      "execution_count": null,
      "outputs": []
    },
    {
      "cell_type": "code",
      "metadata": {
        "id": "fAtA3y7PeE4p"
      },
      "source": [
        "def get_model():\n",
        "    inputs = Input(shape=(512,512,3), name = \"Image Input\")\n",
        "    x = Rescaling(((1./255)-0.5)*2,  name = 'Normalization')(inputs)\n",
        "\n",
        "    x = Conv2D(256, (3,3), strides = 2, activation='relu')(x)\n",
        "    x = MaxPooling2D((3,3))(x)\n",
        "    x = Conv2D(128, (3,3), strides = 2, activation='relu')(x)\n",
        "    x = MaxPooling2D((3,3))(x)\n",
        "    x = Conv2D(64, (3,3), strides = 2, activation='relu')(x)\n",
        "    x = GlobalAveragePooling2D()(x)\n",
        "\n",
        "    classifier_head = Dense(32, activation='relu')(x)\n",
        "    classifier_head = Dense(3, activation='softmax', name='label')(classifier_head)\n",
        "\n",
        "    reg_head = Dense(32, activation='relu')(x)\n",
        "    reg_head = Dense(4, activation='tanh', name='bbox')(reg_head)\n",
        "\n",
        "    return Model(inputs=[inputs], outputs=[classifier_head, reg_head])"
      ],
      "execution_count": null,
      "outputs": []
    },
    {
      "cell_type": "code",
      "metadata": {
        "colab": {
          "base_uri": "https://localhost:8080/"
        },
        "id": "ygfdr0HOgPXS",
        "outputId": "1e7afb93-5ceb-4e47-a16c-7842f5b42658"
      },
      "source": [
        "tf.keras.backend.clear_session()\n",
        "model = get_model()\n",
        "model.summary()"
      ],
      "execution_count": null,
      "outputs": [
        {
          "output_type": "stream",
          "name": "stdout",
          "text": [
            "Model: \"model\"\n",
            "__________________________________________________________________________________________________\n",
            " Layer (type)                   Output Shape         Param #     Connected to                     \n",
            "==================================================================================================\n",
            " Image Input (InputLayer)       [(None, 512, 512, 3  0           []                               \n",
            "                                )]                                                                \n",
            "                                                                                                  \n",
            " Normalization (Rescaling)      (None, 512, 512, 3)  0           ['Image Input[0][0]']            \n",
            "                                                                                                  \n",
            " conv2d (Conv2D)                (None, 255, 255, 25  7168        ['Normalization[0][0]']          \n",
            "                                6)                                                                \n",
            "                                                                                                  \n",
            " max_pooling2d (MaxPooling2D)   (None, 85, 85, 256)  0           ['conv2d[0][0]']                 \n",
            "                                                                                                  \n",
            " conv2d_1 (Conv2D)              (None, 42, 42, 128)  295040      ['max_pooling2d[0][0]']          \n",
            "                                                                                                  \n",
            " max_pooling2d_1 (MaxPooling2D)  (None, 14, 14, 128)  0          ['conv2d_1[0][0]']               \n",
            "                                                                                                  \n",
            " conv2d_2 (Conv2D)              (None, 6, 6, 64)     73792       ['max_pooling2d_1[0][0]']        \n",
            "                                                                                                  \n",
            " global_average_pooling2d (Glob  (None, 64)          0           ['conv2d_2[0][0]']               \n",
            " alAveragePooling2D)                                                                              \n",
            "                                                                                                  \n",
            " dense (Dense)                  (None, 32)           2080        ['global_average_pooling2d[0][0]'\n",
            "                                                                 ]                                \n",
            "                                                                                                  \n",
            " dense_1 (Dense)                (None, 32)           2080        ['global_average_pooling2d[0][0]'\n",
            "                                                                 ]                                \n",
            "                                                                                                  \n",
            " label (Dense)                  (None, 3)            99          ['dense[0][0]']                  \n",
            "                                                                                                  \n",
            " bbox (Dense)                   (None, 4)            132         ['dense_1[0][0]']                \n",
            "                                                                                                  \n",
            "==================================================================================================\n",
            "Total params: 380,391\n",
            "Trainable params: 380,391\n",
            "Non-trainable params: 0\n",
            "__________________________________________________________________________________________________\n"
          ]
        }
      ]
    },
    {
      "cell_type": "code",
      "metadata": {
        "colab": {
          "base_uri": "https://localhost:8080/",
          "height": 1000
        },
        "id": "vHQRvYsIgSsu",
        "outputId": "b1fd0d9c-f2b6-462c-c2a6-82007eea9e8a"
      },
      "source": [
        "tf.keras.utils.plot_model(\n",
        "    model, to_file='model.png', show_shapes=True, show_layer_names=True,\n",
        "    rankdir='TB', expand_nested=True, dpi=96\n",
        ")"
      ],
      "execution_count": null,
      "outputs": [
        {
          "output_type": "execute_result",
          "data": {
            "image/png": "[encoded data removed]",
            "text/plain": [
              "<IPython.core.display.Image object>"
            ]
          },
          "metadata": {},
          "execution_count": 144
        }
      ]
    },
    {
      "cell_type": "code",
      "metadata": {
        "id": "s4KqvojCghte"
      },
      "source": [
        "model.compile('adam', loss=losses, loss_weights=loss_weights, metrics=['acc'])"
      ],
      "execution_count": null,
      "outputs": []
    },
    {
      "cell_type": "markdown",
      "metadata": {
        "id": "8-XtCs39mqTd"
      },
      "source": [
        "# Train and Record"
      ]
    },
    {
      "cell_type": "code",
      "metadata": {
        "colab": {
          "base_uri": "https://localhost:8080/"
        },
        "id": "Y5BNju6WmqEG",
        "outputId": "10a2ae58-bcbd-48b7-8e1e-acd8d94adff9"
      },
      "source": [
        "#wandb.init(project='fruit_location_and_labeling_bbox_dropout', job_type='train')\n",
        "\n",
        "model.fit(trainloader,epochs=40)#,\n",
        "          #validation_data=testloader),\n",
        "          #callbacks=[WandbCallback()])\n",
        "\n",
        "#wandb.finish()"
      ],
      "execution_count": null,
      "outputs": [
        {
          "output_type": "stream",
          "name": "stdout",
          "text": [
            "Epoch 1/40\n",
            "231/231 [==============================] - 37s 141ms/step - loss: 6.0051 - label_loss: 1.8536 - bbox_loss: 0.4151 - label_acc: 0.4302 - bbox_acc: 0.4120\n",
            "Epoch 2/40\n",
            "231/231 [==============================] - 36s 141ms/step - loss: 2.8470 - label_loss: 0.8115 - bbox_loss: 0.2035 - label_acc: 0.6495 - bbox_acc: 0.5347\n",
            "Epoch 3/40\n",
            "231/231 [==============================] - 36s 140ms/step - loss: 2.5145 - label_loss: 0.6933 - bbox_loss: 0.1821 - label_acc: 0.7067 - bbox_acc: 0.5802\n",
            "Epoch 4/40\n",
            "231/231 [==============================] - 36s 141ms/step - loss: 2.2004 - label_loss: 0.5882 - bbox_loss: 0.1612 - label_acc: 0.7565 - bbox_acc: 0.6456\n",
            "Epoch 5/40\n",
            "231/231 [==============================] - 35s 139ms/step - loss: 1.8749 - label_loss: 0.5476 - bbox_loss: 0.1327 - label_acc: 0.7838 - bbox_acc: 0.6976\n",
            "Epoch 6/40\n",
            "231/231 [==============================] - 36s 140ms/step - loss: 1.7078 - label_loss: 0.4645 - bbox_loss: 0.1243 - label_acc: 0.8098 - bbox_acc: 0.7288\n",
            "Epoch 7/40\n",
            "231/231 [==============================] - 35s 139ms/step - loss: 1.5579 - label_loss: 0.3900 - bbox_loss: 0.1168 - label_acc: 0.8479 - bbox_acc: 0.7522\n",
            "Epoch 8/40\n",
            "231/231 [==============================] - 36s 140ms/step - loss: 1.5270 - label_loss: 0.3837 - bbox_loss: 0.1143 - label_acc: 0.8679 - bbox_acc: 0.7409\n",
            "Epoch 9/40\n",
            "231/231 [==============================] - 35s 140ms/step - loss: 1.3396 - label_loss: 0.2932 - bbox_loss: 0.1046 - label_acc: 0.8934 - bbox_acc: 0.7743\n",
            "Epoch 10/40\n",
            "231/231 [==============================] - 36s 140ms/step - loss: 1.1972 - label_loss: 0.2277 - bbox_loss: 0.0969 - label_acc: 0.9237 - bbox_acc: 0.7942\n",
            "Epoch 11/40\n",
            "231/231 [==============================] - 35s 139ms/step - loss: 1.1343 - label_loss: 0.2159 - bbox_loss: 0.0918 - label_acc: 0.9233 - bbox_acc: 0.8020\n",
            "Epoch 12/40\n",
            "231/231 [==============================] - 36s 141ms/step - loss: 0.9922 - label_loss: 0.1360 - bbox_loss: 0.0856 - label_acc: 0.9580 - bbox_acc: 0.8085\n",
            "Epoch 13/40\n",
            "231/231 [==============================] - 36s 140ms/step - loss: 0.9353 - label_loss: 0.1212 - bbox_loss: 0.0814 - label_acc: 0.9558 - bbox_acc: 0.8193\n",
            "Epoch 14/40\n",
            "231/231 [==============================] - 36s 141ms/step - loss: 0.8866 - label_loss: 0.0929 - bbox_loss: 0.0794 - label_acc: 0.9731 - bbox_acc: 0.8271\n",
            "Epoch 15/40\n",
            "231/231 [==============================] - 36s 140ms/step - loss: 0.8034 - label_loss: 0.0667 - bbox_loss: 0.0737 - label_acc: 0.9818 - bbox_acc: 0.8479\n",
            "Epoch 16/40\n",
            "231/231 [==============================] - 36s 141ms/step - loss: 0.8092 - label_loss: 0.0725 - bbox_loss: 0.0737 - label_acc: 0.9757 - bbox_acc: 0.8284\n",
            "Epoch 17/40\n",
            "231/231 [==============================] - 35s 140ms/step - loss: 0.7344 - label_loss: 0.0455 - bbox_loss: 0.0689 - label_acc: 0.9866 - bbox_acc: 0.8492\n",
            "Epoch 18/40\n",
            "231/231 [==============================] - 36s 141ms/step - loss: 0.6868 - label_loss: 0.0348 - bbox_loss: 0.0652 - label_acc: 0.9909 - bbox_acc: 0.8566\n",
            "Epoch 19/40\n",
            "231/231 [==============================] - 35s 140ms/step - loss: 0.6970 - label_loss: 0.0300 - bbox_loss: 0.0667 - label_acc: 0.9913 - bbox_acc: 0.8505\n",
            "Epoch 20/40\n",
            "231/231 [==============================] - 36s 141ms/step - loss: 0.6756 - label_loss: 0.0322 - bbox_loss: 0.0643 - label_acc: 0.9918 - bbox_acc: 0.8575\n",
            "Epoch 21/40\n",
            "231/231 [==============================] - 36s 140ms/step - loss: 0.6602 - label_loss: 0.0305 - bbox_loss: 0.0630 - label_acc: 0.9935 - bbox_acc: 0.8622\n",
            "Epoch 22/40\n",
            "231/231 [==============================] - 36s 141ms/step - loss: 0.7317 - label_loss: 0.0576 - bbox_loss: 0.0674 - label_acc: 0.9792 - bbox_acc: 0.8410\n",
            "Epoch 23/40\n",
            "231/231 [==============================] - 36s 140ms/step - loss: 0.6470 - label_loss: 0.0195 - bbox_loss: 0.0628 - label_acc: 0.9948 - bbox_acc: 0.8726\n",
            "Epoch 24/40\n",
            "231/231 [==============================] - 36s 140ms/step - loss: 0.6388 - label_loss: 0.0402 - bbox_loss: 0.0599 - label_acc: 0.9900 - bbox_acc: 0.8609\n",
            "Epoch 25/40\n",
            "231/231 [==============================] - 36s 140ms/step - loss: 0.6669 - label_loss: 0.0444 - bbox_loss: 0.0623 - label_acc: 0.9866 - bbox_acc: 0.8596\n",
            "Epoch 26/40\n",
            "231/231 [==============================] - 36s 140ms/step - loss: 0.5892 - label_loss: 0.0111 - bbox_loss: 0.0578 - label_acc: 0.9983 - bbox_acc: 0.8782\n",
            "Epoch 27/40\n",
            "231/231 [==============================] - 36s 140ms/step - loss: 0.5597 - label_loss: 0.0061 - bbox_loss: 0.0554 - label_acc: 1.0000 - bbox_acc: 0.8808\n",
            "Epoch 28/40\n",
            "231/231 [==============================] - 36s 141ms/step - loss: 0.5352 - label_loss: 0.0034 - bbox_loss: 0.0532 - label_acc: 1.0000 - bbox_acc: 0.8960\n",
            "Epoch 29/40\n",
            "231/231 [==============================] - 36s 140ms/step - loss: 0.5324 - label_loss: 0.0035 - bbox_loss: 0.0529 - label_acc: 0.9996 - bbox_acc: 0.8973\n",
            "Epoch 30/40\n",
            "231/231 [==============================] - 36s 141ms/step - loss: 0.8762 - label_loss: 0.1288 - bbox_loss: 0.0747 - label_acc: 0.9571 - bbox_acc: 0.8341\n",
            "Epoch 31/40\n",
            "231/231 [==============================] - 35s 139ms/step - loss: 0.6095 - label_loss: 0.0124 - bbox_loss: 0.0597 - label_acc: 0.9970 - bbox_acc: 0.8674\n",
            "Epoch 32/40\n",
            "231/231 [==============================] - 36s 140ms/step - loss: 0.5441 - label_loss: 0.0041 - bbox_loss: 0.0540 - label_acc: 1.0000 - bbox_acc: 0.8886\n",
            "Epoch 33/40\n",
            "231/231 [==============================] - 35s 139ms/step - loss: 0.5210 - label_loss: 0.0027 - bbox_loss: 0.0518 - label_acc: 1.0000 - bbox_acc: 0.8943\n",
            "Epoch 34/40\n",
            "231/231 [==============================] - 36s 141ms/step - loss: 0.5162 - label_loss: 0.0022 - bbox_loss: 0.0514 - label_acc: 1.0000 - bbox_acc: 0.8973\n",
            "Epoch 35/40\n",
            "231/231 [==============================] - 36s 140ms/step - loss: 0.9536 - label_loss: 0.2067 - bbox_loss: 0.0747 - label_acc: 0.9467 - bbox_acc: 0.8328\n",
            "Epoch 36/40\n",
            "231/231 [==============================] - 36s 141ms/step - loss: 1.2799 - label_loss: 0.2484 - bbox_loss: 0.1031 - label_acc: 0.9086 - bbox_acc: 0.7756\n",
            "Epoch 37/40\n",
            "231/231 [==============================] - 36s 140ms/step - loss: 0.5839 - label_loss: 0.0149 - bbox_loss: 0.0569 - label_acc: 0.9974 - bbox_acc: 0.8821\n",
            "Epoch 38/40\n",
            "231/231 [==============================] - 36s 141ms/step - loss: 0.5227 - label_loss: 0.0050 - bbox_loss: 0.0518 - label_acc: 0.9991 - bbox_acc: 0.9086\n",
            "Epoch 39/40\n",
            "231/231 [==============================] - 36s 140ms/step - loss: 0.4976 - label_loss: 0.0021 - bbox_loss: 0.0496 - label_acc: 1.0000 - bbox_acc: 0.9021\n",
            "Epoch 40/40\n",
            "231/231 [==============================] - 36s 141ms/step - loss: 0.4962 - label_loss: 0.0024 - bbox_loss: 0.0494 - label_acc: 0.9996 - bbox_acc: 0.9081\n"
          ]
        },
        {
          "output_type": "execute_result",
          "data": {
            "text/plain": [
              "<keras.callbacks.History at 0x7f8e4ecd3550>"
            ]
          },
          "metadata": {},
          "execution_count": 146
        }
      ]
    },
    {
      "cell_type": "markdown",
      "metadata": {
        "id": "HMsrmfS2AK0h"
      },
      "source": [
        "# Testing for Submission"
      ]
    },
    {
      "cell_type": "code",
      "metadata": {
        "id": "HIGniMYSBLCt"
      },
      "source": [
        "AUTO            = tf.data.experimental.AUTOTUNE\n",
        "\n",
        "def preprocess_test_img(image_name):\n",
        "    image       = tf.io.read_file(TEST_IMG_PATH+image_name+'.jpg')\n",
        "    image       = tf.image.decode_jpeg(image, channels=3)\n",
        "\n",
        "    return image\n",
        "\n",
        "test_image_ID   = submission_test_df.Image_ID.values\n",
        "testloader1     = tf.data.Dataset.from_tensor_slices((test_image_ID))\n",
        "\n",
        "testloader1 = (\n",
        "    testloader1\n",
        "    .map(preprocess_test_img)\n",
        "    .batch(1)\n",
        ")"
      ],
      "execution_count": null,
      "outputs": []
    },
    {
      "cell_type": "code",
      "metadata": {
        "id": "PilJYOUADH95"
      },
      "source": [
        "predictions_label, predictions_bbox = model.predict(testloader1)"
      ],
      "execution_count": null,
      "outputs": []
    },
    {
      "cell_type": "code",
      "metadata": {
        "id": "s1LvFCp_Dh3K"
      },
      "source": [
        "classifications = ['fruit_healthy','fruit_brownspot','fruit_woodiness']"
      ],
      "execution_count": null,
      "outputs": []
    },
    {
      "cell_type": "code",
      "metadata": {
        "id": "zWwsbYDvhzTE"
      },
      "source": [
        "cls = []\n",
        "con = []\n",
        "xmi = []\n",
        "ymi = []\n",
        "xma = []\n",
        "yma = []\n",
        "\n",
        "for i in range(931):\n",
        "  cls.append(classifications[np.argmax(predictions_label[i])])\n",
        "\n",
        "  con.append(max(predictions_label[i]))\n",
        "\n",
        "  xmi.append(round((predictions_bbox[i][0]+1)*256))\n",
        "  ymi.append(round((predictions_bbox[i][1]+1)*256))\n",
        "\n",
        "  xma.append(round((predictions_bbox[i][0]+1)*256)+round((predictions_bbox[i][2]*data_desc['width'][2])+data_desc['width'][1]))\n",
        "  yma.append(round((predictions_bbox[i][1]+1)*256)+round((predictions_bbox[i][3]*data_desc['height'][2])+data_desc['height'][1]))"
      ],
      "execution_count": null,
      "outputs": []
    },
    {
      "cell_type": "code",
      "metadata": {
        "id": "vzSnqZRplC24"
      },
      "source": [
        "test_sub_df = pd.DataFrame({'class':cls,\n",
        "                            'confidence':con,\n",
        "                            'ymin':ymi,\n",
        "                            'xmin':xmi,\n",
        "                            'ymax':yma,\n",
        "                            'xmax':xma})"
      ],
      "execution_count": null,
      "outputs": []
    },
    {
      "cell_type": "code",
      "metadata": {
        "id": "03-k1811w8qq"
      },
      "source": [
        "sub = pd.concat([submission_test_df,test_sub_df],axis=1)"
      ],
      "execution_count": null,
      "outputs": []
    },
    {
      "cell_type": "code",
      "metadata": {
        "id": "wXgtbsgYx0eH"
      },
      "source": [
        "sub.to_csv('/content/drive/MyDrive/TUKS/Postgraduate/Honours/COS 711/Assignments/Assignment 3/Test/Test.csv', mode='w', index=False, header=True)"
      ],
      "execution_count": null,
      "outputs": []
    },
    {
      "cell_type": "code",
      "metadata": {
        "id": "d4OehPCfyQLn"
      },
      "source": [
        ""
      ],
      "execution_count": null,
      "outputs": []
    }
  ]
}